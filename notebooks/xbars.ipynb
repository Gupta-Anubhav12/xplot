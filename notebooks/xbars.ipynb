{
 "cells": [
  {
   "cell_type": "code",
   "execution_count": 1,
   "metadata": {
    "collapsed": true
   },
   "outputs": [],
   "source": [
    "#include \"xplot/xfigure.hpp\"\n",
    "#include \"xplot/xmarks.hpp\"\n",
    "#include \"xplot/xaxes.hpp\""
   ]
  },
  {
   "cell_type": "code",
   "execution_count": 2,
   "metadata": {
    "collapsed": true
   },
   "outputs": [],
   "source": [
    "std::size_t n = 10;\n",
    "std::size_t nbite = 1000;"
   ]
  },
  {
   "cell_type": "code",
   "execution_count": 3,
   "metadata": {
    "collapsed": true
   },
   "outputs": [],
   "source": [
    "#include <random>\n",
    "std::random_device rd;  \n",
    "std::mt19937 gen(rd());\n",
    "std::uniform_int_distribution<> dis(0, n-1);"
   ]
  },
  {
   "cell_type": "code",
   "execution_count": 4,
   "metadata": {
    "collapsed": true
   },
   "outputs": [],
   "source": [
    "std::vector<double> x(n);\n",
    "std::iota(x.begin(), x.end(), 0);\n",
    "std::vector<double> y(n);"
   ]
  },
  {
   "cell_type": "code",
   "execution_count": 5,
   "metadata": {
    "collapsed": true
   },
   "outputs": [],
   "source": [
    "for(std::size_t i=0; i<nbite; ++i)\n",
    "    y[dis(gen)]++;"
   ]
  },
  {
   "cell_type": "code",
   "execution_count": 6,
   "metadata": {
    "collapsed": true
   },
   "outputs": [],
   "source": [
    "xpl::ordinal_scale sx;\n",
    "xpl::linear_scale sy;\n",
    "xpl::bars bar(sx, sy);\n",
    "bar.x = x;\n",
    "bar.y = y;\n",
    "bar.padding = 0.5;"
   ]
  },
  {
   "cell_type": "code",
   "execution_count": 19,
   "metadata": {},
   "outputs": [
    {
     "name": "stderr",
     "output_type": "stream",
     "text": [
      "input_line_31:2:8: error: redefinition of 'yy' with a different type: 'xpl::xbars<xw::xmaterialize<xbars> >::y_property &' vs 'xpl::xboxed_container<std::vector<double, std::allocator<double> > > &'\n",
      " auto& yy = bar.y\n",
      "       ^\n",
      "input_line_20:2:8: note: previous definition is here\n",
      " auto& yy = bar.y()\n",
      "       ^\n"
     ]
    }
   ],
   "source": [
    "auto& yy = bar.y"
   ]
  },
  {
   "cell_type": "code",
   "execution_count": 21,
   "metadata": {},
   "outputs": [
    {
     "name": "stdout",
     "output_type": "stream",
     "text": [
      "(xpl::xbars<xw::xmaterialize<xpl::xbars> >::y_property &) @0x7f328ba41758\n"
     ]
    }
   ],
   "source": [
    "auto& yyyy = bar.y"
   ]
  },
  {
   "cell_type": "code",
   "execution_count": 18,
   "metadata": {},
   "outputs": [
    {
     "name": "stdout",
     "output_type": "stream",
     "text": [
      "(xpl::xboxed_container<vector<double, allocator<double> > > &) @0x7f328ba41758\n"
     ]
    }
   ],
   "source": [
    "yyy"
   ]
  },
  {
   "cell_type": "code",
   "execution_count": 7,
   "metadata": {},
   "outputs": [
    {
     "data": {
      "application/vnd.jupyter.widget-view+json": {
       "model_id": "0a609d4da27d4933a04b496b7e0fe877",
       "version_major": 2,
       "version_minor": 0
      },
      "text/plain": [
       "A Jupyter widget"
      ]
     },
     "metadata": {},
     "output_type": "display_data"
    }
   ],
   "source": [
    "xpl::figure fig;\n",
    "fig.add_mark(bar);\n",
    "fig.display()"
   ]
  },
  {
   "cell_type": "code",
   "execution_count": 11,
   "metadata": {
    "collapsed": true
   },
   "outputs": [],
   "source": [
    "xpl::axis hx(sx), hy(sy);\n",
    "hy.orientation = \"vertical\";\n",
    "fig.add_axis(hx);\n",
    "fig.add_axis(hy);"
   ]
  },
  {
   "cell_type": "code",
   "execution_count": 8,
   "metadata": {
    "collapsed": true
   },
   "outputs": [],
   "source": [
    "std::vector<double> opacities(10);\n",
    "std::fill(opacities.begin(), opacities.end(), 0.5);"
   ]
  },
  {
   "cell_type": "code",
   "execution_count": 9,
   "metadata": {
    "collapsed": true
   },
   "outputs": [],
   "source": [
    "bar.opacities = opacities;"
   ]
  },
  {
   "cell_type": "code",
   "execution_count": 10,
   "metadata": {
    "collapsed": true
   },
   "outputs": [],
   "source": [
    "bar.colors = std::vector<std::string>({\"blue\"});"
   ]
  },
  {
   "cell_type": "code",
   "execution_count": null,
   "metadata": {
    "collapsed": true
   },
   "outputs": [],
   "source": []
  }
 ],
 "metadata": {
  "kernelspec": {
   "display_name": "xeus C++14",
   "language": "",
   "name": "xeus-cling-cpp14"
  },
  "language_info": {
   "codemirror_mode": "text/x-c++src",
   "file_extension": ".cpp",
   "mimetype": "text/x-c++src",
   "name": "c++",
   "version": ""
  }
 },
 "nbformat": 4,
 "nbformat_minor": 2
}
