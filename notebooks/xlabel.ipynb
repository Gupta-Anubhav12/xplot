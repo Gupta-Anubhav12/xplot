{
 "cells": [
  {
   "cell_type": "code",
   "execution_count": 1,
   "metadata": {},
   "outputs": [],
   "source": [
    "#include \"xplot/xfigure.hpp\"\n",
    "#include \"xplot/xmarks.hpp\"\n",
    "#include \"xplot/xaxes.hpp\""
   ]
  },
  {
   "cell_type": "code",
   "execution_count": 2,
   "metadata": {},
   "outputs": [],
   "source": [
    "xpl::linear_scale sx, sy;"
   ]
  },
  {
   "cell_type": "code",
   "execution_count": 3,
   "metadata": {},
   "outputs": [],
   "source": [
    "xpl::lines line(sx, sy);\n",
    "line.x = std::vector<double>({0.0, 0.5, 1.0, 1.1, 1.2, 1.4, 1.7});\n",
    "line.y = std::vector<double>({0.0, 0.7, 0.5, 1.1, 1.2, 1.2, 2.0});"
   ]
  },
  {
   "cell_type": "code",
   "execution_count": 4,
   "metadata": {},
   "outputs": [],
   "source": [
    "xpl::label label(sx, sy);\n",
    "label.x = std::vector<double>{0.5, 1.0, 1.1, 1.2, 1.4};\n",
    "label.y = std::vector<double>{0.7, 0.5, 1.1, 1.2, 1.2};\n",
    "label.text = std::vector<std::string>{\"Test\", \"label\", \"for\", \"the\", \"data.\"};\n",
    "label.colors = std::vector<std::string>{\"orange\", \"red\"};\n",
    "label.font_weight = \"bolder\";\n",
    "label.default_size = 26;"
   ]
  },
  {
   "cell_type": "code",
   "execution_count": 5,
   "metadata": {
    "collapsed": true
   },
   "outputs": [],
   "source": [
    "xpl::axis hx(sx), hy(sy);\n",
    "hy.orientation = \"vertical\";"
   ]
  },
  {
   "cell_type": "code",
   "execution_count": 6,
   "metadata": {
    "scrolled": true
   },
   "outputs": [
    {
     "data": {
      "application/vnd.jupyter.widget-view+json": {
       "model_id": "527d5604f9184d9abdcb6ec0d344bfe3",
       "version_major": 2,
       "version_minor": 0
      },
      "text/plain": [
       "A Jupyter widget"
      ]
     },
     "metadata": {},
     "output_type": "display_data"
    }
   ],
   "source": [
    "xpl::figure fig;\n",
    "fig.add_mark(line);\n",
    "fig.add_mark(label);\n",
    "fig.add_axis(hx);\n",
    "fig.add_axis(hy);\n",
    "fig.display()"
   ]
  },
  {
   "cell_type": "code",
   "execution_count": null,
   "metadata": {
    "collapsed": true
   },
   "outputs": [],
   "source": []
  }
 ],
 "metadata": {
  "kernelspec": {
   "display_name": "xeus C++14",
   "language": "",
   "name": "xeus-cling-cpp14"
  },
  "language_info": {
   "codemirror_mode": "text/x-c++src",
   "file_extension": ".cpp",
   "mimetype": "text/x-c++src",
   "name": "c++",
   "version": ""
  }
 },
 "nbformat": 4,
 "nbformat_minor": 2
}
