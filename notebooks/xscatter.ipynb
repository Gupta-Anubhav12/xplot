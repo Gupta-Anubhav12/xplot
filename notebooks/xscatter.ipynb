{
 "cells": [
  {
   "cell_type": "markdown",
   "metadata": {},
   "source": [
    "# Basic Scatter"
   ]
  },
  {
   "cell_type": "code",
   "execution_count": 1,
   "metadata": {
    "collapsed": true
   },
   "outputs": [],
   "source": [
    "#include \"random.hpp\"\n",
    "#include \"xplot/xfigure.hpp\"\n",
    "#include \"xplot/xmarks.hpp\"\n",
    "#include \"xplot/xaxes.hpp\""
   ]
  },
  {
   "cell_type": "code",
   "execution_count": 2,
   "metadata": {
    "collapsed": true
   },
   "outputs": [],
   "source": [
    "std::size_t size = 100;\n",
    "std::vector<double> x_data(size);\n",
    "std::iota(x_data.begin(), x_data.end(), 0);\n",
    "std::vector<double> y_data = randn(size);"
   ]
  },
  {
   "cell_type": "code",
   "execution_count": 3,
   "metadata": {
    "collapsed": true
   },
   "outputs": [],
   "source": [
    "xpl::linear_scale sx, sy;"
   ]
  },
  {
   "cell_type": "code",
   "execution_count": 4,
   "metadata": {
    "collapsed": true
   },
   "outputs": [],
   "source": [
    "xpl::scatter scatter(sx, sy);"
   ]
  },
  {
   "cell_type": "code",
   "execution_count": 5,
   "metadata": {
    "collapsed": true
   },
   "outputs": [],
   "source": [
    "scatter.x = x_data;\n",
    "scatter.y = y_data;"
   ]
  },
  {
   "cell_type": "code",
   "execution_count": 6,
   "metadata": {
    "collapsed": true
   },
   "outputs": [],
   "source": [
    "xpl::axis ax_x(sx), ax_y(sy);\n",
    "ax_y.orientation = \"vertical\";"
   ]
  },
  {
   "cell_type": "code",
   "execution_count": 7,
   "metadata": {},
   "outputs": [
    {
     "data": {
      "application/vnd.jupyter.widget-view+json": {
       "model_id": "fc33bc20147040548a9db99ef6ea4886",
       "version_major": 2,
       "version_minor": 0
      },
      "text/plain": [
       "A Jupyter widget"
      ]
     },
     "metadata": {},
     "output_type": "display_data"
    }
   ],
   "source": [
    "xpl::figure fig;\n",
    "fig.padding_x = 0.025;\n",
    "fig.add_mark(scatter);\n",
    "fig.add_axis(ax_x);\n",
    "fig.add_axis(ax_y);\n",
    "fig.padding_y = 0.025;\n",
    "fig.display()"
   ]
  },
  {
   "cell_type": "markdown",
   "metadata": {},
   "source": [
    "## Changing the marker and adding text to each point of the scatter"
   ]
  },
  {
   "cell_type": "code",
   "execution_count": 1,
   "metadata": {
    "collapsed": true
   },
   "outputs": [],
   "source": [
    "// You need to restart the kernel !!!\n",
    "#include \"random.hpp\"\n",
    "#include \"xplot/xfigure.hpp\"\n",
    "#include \"xplot/xmarks.hpp\"\n",
    "#include \"xplot/xaxes.hpp\""
   ]
  },
  {
   "cell_type": "code",
   "execution_count": 2,
   "metadata": {
    "collapsed": true
   },
   "outputs": [],
   "source": [
    "std::size_t size = 10;\n",
    "std::vector<double> x_data(size);\n",
    "std::iota(x_data.begin(), x_data.end(), 0);\n",
    "std::vector<double> y_data = randn(size);"
   ]
  },
  {
   "cell_type": "code",
   "execution_count": 3,
   "metadata": {
    "collapsed": true
   },
   "outputs": [],
   "source": [
    "xpl::linear_scale sx, sy;"
   ]
  },
  {
   "cell_type": "code",
   "execution_count": 4,
   "metadata": {
    "collapsed": true
   },
   "outputs": [],
   "source": [
    "xpl::scatter scatt(sx, sy);"
   ]
  },
  {
   "cell_type": "code",
   "execution_count": 5,
   "metadata": {
    "collapsed": true
   },
   "outputs": [],
   "source": [
    "scatt.x = x_data;\n",
    "scatt.y = y_data;\n",
    "scatt.names = std::vector<std::string>{\"0\", \"1\", \"2\", \"3\", \"4\", \"5\", \"6\", \"7\", \"8\", \"9\"};"
   ]
  },
  {
   "cell_type": "code",
   "execution_count": 6,
   "metadata": {
    "collapsed": true
   },
   "outputs": [],
   "source": [
    "scatt.colors = std::vector<xtl::xoptional<std::string>>{\"red\"};"
   ]
  },
  {
   "cell_type": "code",
   "execution_count": 7,
   "metadata": {
    "collapsed": true
   },
   "outputs": [],
   "source": [
    "scatt.marker = \"cross\";"
   ]
  },
  {
   "cell_type": "code",
   "execution_count": 8,
   "metadata": {
    "collapsed": true
   },
   "outputs": [],
   "source": [
    "xpl::axis ax_x(sx), ax_y(sy);\n",
    "ax_y.orientation = \"vertical\";"
   ]
  },
  {
   "cell_type": "code",
   "execution_count": 9,
   "metadata": {},
   "outputs": [
    {
     "data": {
      "application/vnd.jupyter.widget-view+json": {
       "model_id": "0e0da5290ac64215ada90db916b77510",
       "version_major": 2,
       "version_minor": 0
      },
      "text/plain": [
       "A Jupyter widget"
      ]
     },
     "metadata": {},
     "output_type": "display_data"
    }
   ],
   "source": [
    "xpl::figure fig;\n",
    "fig.padding_x = 0.025;\n",
    "fig.add_mark(scatt);\n",
    "fig.add_axis(ax_x);\n",
    "fig.add_axis(ax_y);\n",
    "fig.display()"
   ]
  },
  {
   "cell_type": "markdown",
   "metadata": {},
   "source": [
    "## Changing the opacity of each marker"
   ]
  },
  {
   "cell_type": "code",
   "execution_count": 12,
   "metadata": {},
   "outputs": [
    {
     "name": "stderr",
     "output_type": "stream",
     "text": [
      "input_line_19:2:28: error: no matching conversion for functional-style cast from 'void' to 'std::vector<double>'\n",
      " scatt.default_opacities = std::vector<double>({0.3, 0.5, 1.});\n",
      "                           ^~~~~~~~~~~~~~~~~~~~~~~~~~~~~~~~~~\n",
      "/home/sylvain/miniconda3/gcc/include/c++/bits/stl_vector.h:266:7: note: candidate constructor not viable: cannot convert initializer list argument to 'const allocator_type' (aka 'const std::allocator<double>')\n",
      "      vector(const allocator_type& __a) _GLIBCXX_NOEXCEPT\n",
      "      ^\n",
      "/home/sylvain/miniconda3/gcc/include/c++/bits/stl_vector.h:279:7: note: candidate constructor not viable: cannot convert initializer list argument to 'size_type' (aka 'unsigned long')\n",
      "      vector(size_type __n, const allocator_type& __a = allocator_type())\n",
      "      ^\n",
      "/home/sylvain/miniconda3/gcc/include/c++/bits/stl_vector.h:320:7: note: candidate constructor not viable: cannot convert initializer list argument to 'const std::vector<double, std::allocator<double> >'\n",
      "      vector(const vector& __x)\n",
      "      ^\n",
      "/home/sylvain/miniconda3/gcc/include/c++/bits/stl_vector.h:337:7: note: candidate constructor not viable: cannot convert initializer list argument to 'std::vector<double, std::allocator<double> >'\n",
      "      vector(vector&& __x) noexcept\n",
      "      ^\n",
      "/home/sylvain/miniconda3/gcc/include/c++/bits/stl_vector.h:403:9: note: candidate constructor template not viable: requires at least 2 arguments, but 1 was provided\n",
      "        vector(_InputIterator __first, _InputIterator __last,\n",
      "        ^\n",
      "/home/sylvain/miniconda3/gcc/include/c++/bits/stl_vector.h:255:7: note: candidate constructor not viable: requires 0 arguments, but 1 was provided\n",
      "      vector()\n",
      "      ^\n",
      "/home/sylvain/miniconda3/gcc/include/c++/bits/stl_vector.h:341:7: note: candidate constructor not viable: requires 2 arguments, but 1 was provided\n",
      "      vector(const vector& __x, const allocator_type& __a)\n",
      "      ^\n",
      "/home/sylvain/miniconda3/gcc/include/c++/bits/stl_vector.h:350:7: note: candidate constructor not viable: requires 2 arguments, but 1 was provided\n",
      "      vector(vector&& __rv, const allocator_type& __m)\n",
      "      ^\n",
      "/home/sylvain/miniconda3/gcc/include/c++/bits/stl_vector.h:291:7: note: candidate constructor not viable: requires at least 2 arguments, but 1 was provided\n",
      "      vector(size_type __n, const value_type& __value,\n",
      "      ^\n"
     ]
    }
   ],
   "source": [
    "scatt.default_opacities = std::vector<double>({0.3, 0.5, 1.});"
   ]
  },
  {
   "cell_type": "markdown",
   "metadata": {},
   "source": [
    "# Representing additional dimensions of data"
   ]
  },
  {
   "cell_type": "markdown",
   "metadata": {
    "input_collapsed": false
   },
   "source": [
    "## Linear Scale for Color Data"
   ]
  },
  {
   "cell_type": "code",
   "execution_count": 1,
   "metadata": {
    "collapsed": true
   },
   "outputs": [],
   "source": [
    "// You need to restart the kernel !!!\n",
    "#include \"random.hpp\"\n",
    "#include \"xplot/xfigure.hpp\"\n",
    "#include \"xplot/xmarks.hpp\"\n",
    "#include \"xplot/xaxes.hpp\""
   ]
  },
  {
   "cell_type": "code",
   "execution_count": 2,
   "metadata": {
    "collapsed": true
   },
   "outputs": [],
   "source": [
    "std::size_t size = 100;\n",
    "std::vector<double> x_data(size);\n",
    "std::iota(x_data.begin(), x_data.end(), 0);\n",
    "std::vector<double> y_data = randn(size);\n",
    "std::vector<double> c_data = randn(size);"
   ]
  },
  {
   "cell_type": "code",
   "execution_count": 3,
   "metadata": {
    "collapsed": true
   },
   "outputs": [],
   "source": [
    "xpl::linear_scale sx, sy;\n",
    "xpl::color_scale sc;"
   ]
  },
  {
   "cell_type": "code",
   "execution_count": 4,
   "metadata": {
    "collapsed": true
   },
   "outputs": [],
   "source": [
    "xpl::scatter scatter(sx, sy, sc);"
   ]
  },
  {
   "cell_type": "code",
   "execution_count": 5,
   "metadata": {
    "collapsed": true
   },
   "outputs": [],
   "source": [
    "scatter.x = x_data;\n",
    "scatter.y = y_data;\n",
    "scatter.color = c_data;\n",
    "scatter.stroke = \"black\";"
   ]
  },
  {
   "cell_type": "code",
   "execution_count": 6,
   "metadata": {
    "collapsed": true
   },
   "outputs": [],
   "source": [
    "xpl::axis ax_x(sx), ax_y(sy);\n",
    "ax_x.label = \"x\";\n",
    "ax_y.label = \"y\";\n",
    "ax_y.orientation = \"vertical\";\n",
    "ax_y.side = \"left\";"
   ]
  },
  {
   "cell_type": "code",
   "execution_count": 7,
   "metadata": {
    "collapsed": true
   },
   "outputs": [],
   "source": [
    "xpl::color_axis ax_c(sc);\n",
    "ax_c.label = \"Values\";\n",
    "ax_c.orientation = \"vertical\";\n",
    "ax_c.side = \"right\";"
   ]
  },
  {
   "cell_type": "code",
   "execution_count": 8,
   "metadata": {},
   "outputs": [
    {
     "data": {
      "application/vnd.jupyter.widget-view+json": {
       "model_id": "4c099d642401441ca9dbccee11b2efcd",
       "version_major": 2,
       "version_minor": 0
      },
      "text/plain": [
       "A Jupyter widget"
      ]
     },
     "metadata": {},
     "output_type": "display_data"
    }
   ],
   "source": [
    "xpl::figure fig;\n",
    "fig.padding_x = 0.025;\n",
    "fig.fig_margin = xeus::xjson({{\"top\", 50}, {\"bottom\", 70}, {\"left\", 50}, {\"right\", 100}});\n",
    "fig.add_mark(scatter);\n",
    "fig.add_axis(ax_x);\n",
    "fig.add_axis(ax_y);\n",
    "fig.add_axis(ax_c);\n",
    "fig.display()"
   ]
  },
  {
   "cell_type": "code",
   "execution_count": 9,
   "metadata": {
    "collapsed": true
   },
   "outputs": [],
   "source": [
    "// need to call 2 times (bug !!)\n",
    "ax_c.orientation = \"vertical\";\n",
    "ax_c.side = \"right\";"
   ]
  },
  {
   "cell_type": "code",
   "execution_count": 10,
   "metadata": {
    "collapsed": true
   },
   "outputs": [],
   "source": [
    "// setting the fill to be empty\n",
    "scatter.stroke = xtl::xoptional<std::string>{};\n",
    "scatter.fill = false;"
   ]
  },
  {
   "cell_type": "code",
   "execution_count": 11,
   "metadata": {
    "collapsed": true
   },
   "outputs": [],
   "source": [
    "// Setting the fill back\n",
    "scatter.stroke = \"black\";\n",
    "scatter.fill = true;"
   ]
  },
  {
   "cell_type": "markdown",
   "metadata": {
    "input_collapsed": false
   },
   "source": [
    "## Ordinal Scale for Color"
   ]
  },
  {
   "cell_type": "code",
   "execution_count": 1,
   "metadata": {
    "collapsed": true
   },
   "outputs": [],
   "source": [
    "// You need to restart the kernel !!!\n",
    "#include \"random.hpp\"\n",
    "#include \"xplot/xfigure.hpp\"\n",
    "#include \"xplot/xmarks.hpp\"\n",
    "#include \"xplot/xaxes.hpp\""
   ]
  },
  {
   "cell_type": "code",
   "execution_count": 2,
   "metadata": {
    "collapsed": true
   },
   "outputs": [],
   "source": [
    "std::size_t size = 100;\n",
    "std::vector<double> x_data(size);\n",
    "std::iota(x_data.begin(), x_data.end(), 0);\n",
    "std::vector<double> y_data = randn(size);\n",
    "std::vector<double> c_data = randint(0, 5, size);"
   ]
  },
  {
   "cell_type": "code",
   "execution_count": 3,
   "metadata": {
    "collapsed": true
   },
   "outputs": [],
   "source": [
    "xpl::linear_scale sx, sy;\n",
    "xpl::ordinal_color_scale sc;"
   ]
  },
  {
   "cell_type": "code",
   "execution_count": 4,
   "metadata": {
    "collapsed": true
   },
   "outputs": [],
   "source": [
    "sc.colors = std::vector<std::string>{\"DodgerBlue\", \"SeaGreen\", \"Yellow\", \"HotPink\", \"OrangeRed\"};"
   ]
  },
  {
   "cell_type": "code",
   "execution_count": 5,
   "metadata": {
    "collapsed": true
   },
   "outputs": [],
   "source": [
    "xpl::scatter scatter(sx, sy, sc);"
   ]
  },
  {
   "cell_type": "code",
   "execution_count": 6,
   "metadata": {
    "collapsed": true
   },
   "outputs": [],
   "source": [
    "scatter.x = x_data;\n",
    "scatter.y = y_data;\n",
    "scatter.color = c_data;\n",
    "scatter.stroke = \"black\";"
   ]
  },
  {
   "cell_type": "code",
   "execution_count": 7,
   "metadata": {
    "collapsed": true
   },
   "outputs": [],
   "source": [
    "xpl::axis ax_x(sx), ax_y(sy);\n",
    "ax_x.label = \"x\";\n",
    "ax_y.label = \"y\";\n",
    "ax_y.orientation = \"vertical\";\n",
    "ax_y.side = \"left\";"
   ]
  },
  {
   "cell_type": "code",
   "execution_count": 8,
   "metadata": {
    "collapsed": true
   },
   "outputs": [],
   "source": [
    "xpl::color_axis ax_c(sc);\n",
    "ax_c.label = \"Values\";\n",
    "ax_c.orientation = \"vertical\";\n",
    "ax_c.side = \"right\";"
   ]
  },
  {
   "cell_type": "code",
   "execution_count": 9,
   "metadata": {},
   "outputs": [
    {
     "data": {
      "application/vnd.jupyter.widget-view+json": {
       "model_id": "c749b4465f0940e385289bdbe7b124d8",
       "version_major": 2,
       "version_minor": 0
      },
      "text/plain": [
       "A Jupyter widget"
      ]
     },
     "metadata": {},
     "output_type": "display_data"
    }
   ],
   "source": [
    "xpl::figure fig;\n",
    "fig.padding_x = 0.025;\n",
    "fig.fig_margin = xeus::xjson({{\"top\", 50}, {\"bottom\", 70}, {\"left\", 100}, {\"right\", 100}});\n",
    "fig.add_mark(scatter);\n",
    "fig.add_axis(ax_x);\n",
    "fig.add_axis(ax_y);\n",
    "fig.add_axis(ax_c);\n",
    "fig.display()"
   ]
  },
  {
   "cell_type": "code",
   "execution_count": 10,
   "metadata": {
    "collapsed": true
   },
   "outputs": [],
   "source": [
    "// need to call 2 times (bug !!)\n",
    "ax_c.orientation = \"vertical\";\n",
    "ax_c.side = \"right\";"
   ]
  },
  {
   "cell_type": "code",
   "execution_count": 11,
   "metadata": {
    "collapsed": true
   },
   "outputs": [],
   "source": [
    "ax_c.tick_format = \"0.2f\";\n",
    "sc.colors = std::vector<std::string>{\"blue\", \"red\", \"green\", \"yellow\", \"orange\"};"
   ]
  },
  {
   "cell_type": "markdown",
   "metadata": {
    "input_collapsed": false
   },
   "source": [
    "## Setting size and opacity based on data"
   ]
  },
  {
   "cell_type": "code",
   "execution_count": 1,
   "metadata": {
    "collapsed": true
   },
   "outputs": [],
   "source": [
    "// You need to restart the kernel !!!\n",
    "#include \"random.hpp\"\n",
    "#include \"xplot/xfigure.hpp\"\n",
    "#include \"xplot/xmarks.hpp\"\n",
    "#include \"xplot/xaxes.hpp\""
   ]
  },
  {
   "cell_type": "code",
   "execution_count": 2,
   "metadata": {
    "collapsed": true
   },
   "outputs": [],
   "source": [
    "std::size_t size = 100;\n",
    "std::vector<double> x_data(size);\n",
    "std::iota(x_data.begin(), x_data.end(), 0);\n",
    "std::vector<double> y_data = randn(size);\n",
    "std::vector<double> c_data = randn(size);"
   ]
  },
  {
   "cell_type": "code",
   "execution_count": 3,
   "metadata": {
    "collapsed": true
   },
   "outputs": [],
   "source": [
    "xpl::linear_scale sx, sy;\n",
    "xpl::linear_scale sc_size, sc_opacities;"
   ]
  },
  {
   "cell_type": "code",
   "execution_count": 4,
   "metadata": {
    "collapsed": true
   },
   "outputs": [],
   "source": [
    "xpl::scatter scatter(sx, sy, sc_size, sc_opacities);"
   ]
  },
  {
   "cell_type": "code",
   "execution_count": 5,
   "metadata": {
    "collapsed": true
   },
   "outputs": [],
   "source": [
    "scatter.x = x_data;\n",
    "scatter.y = y_data;\n",
    "scatter.size = c_data;"
   ]
  },
  {
   "cell_type": "code",
   "execution_count": 6,
   "metadata": {
    "collapsed": true
   },
   "outputs": [],
   "source": [
    "scatter.stroke = \"black\";\n",
    "scatter.default_size = 128;"
   ]
  },
  {
   "cell_type": "code",
   "execution_count": 7,
   "metadata": {
    "collapsed": true
   },
   "outputs": [],
   "source": [
    "scatter.colors = std::vector<xtl::xoptional<std::string>>{\"orangered\"};"
   ]
  },
  {
   "cell_type": "code",
   "execution_count": 8,
   "metadata": {
    "collapsed": true
   },
   "outputs": [],
   "source": [
    "xpl::axis ax_x(sx), ax_y(sy);\n",
    "ax_x.label = \"x\";\n",
    "ax_y.label = \"y\";\n",
    "ax_y.orientation = \"vertical\";\n",
    "ax_y.side = \"left\";"
   ]
  },
  {
   "cell_type": "code",
   "execution_count": 9,
   "metadata": {},
   "outputs": [
    {
     "data": {
      "application/vnd.jupyter.widget-view+json": {
       "model_id": "d360ef80ee234df2a51809697bf79f04",
       "version_major": 2,
       "version_minor": 0
      },
      "text/plain": [
       "A Jupyter widget"
      ]
     },
     "metadata": {},
     "output_type": "display_data"
    }
   ],
   "source": [
    "xpl::figure fig;\n",
    "fig.padding_x = 0.025;\n",
    "fig.add_mark(scatter);\n",
    "fig.add_axis(ax_x);\n",
    "fig.add_axis(ax_y);\n",
    "fig.display()"
   ]
  },
  {
   "cell_type": "code",
   "execution_count": 10,
   "metadata": {
    "collapsed": true
   },
   "outputs": [],
   "source": [
    "// Changing the opacity of the scatter\n",
    "scatter.default_opacities = std::vector<double>{0.5, 0.3, 0.1};"
   ]
  },
  {
   "cell_type": "code",
   "execution_count": 11,
   "metadata": {
    "collapsed": true
   },
   "outputs": [],
   "source": [
    "// Resetting the size for the scatter\n",
    "scatter.size = std::vector<double>{};"
   ]
  },
  {
   "cell_type": "code",
   "execution_count": 12,
   "metadata": {
    "collapsed": true
   },
   "outputs": [],
   "source": [
    "// Resetting the opacity and setting the opacity according to the date\n",
    "scatter.default_opacities = std::vector<double>{1.0};"
   ]
  },
  {
   "cell_type": "markdown",
   "metadata": {},
   "source": [
    "# Scatter Chart Interactions"
   ]
  },
  {
   "cell_type": "markdown",
   "metadata": {},
   "source": [
    "## Moving points in Scatter"
   ]
  },
  {
   "cell_type": "code",
   "execution_count": 1,
   "metadata": {
    "collapsed": true
   },
   "outputs": [],
   "source": [
    "// You need to restart the kernel !!!\n",
    "#include \"random.hpp\"\n",
    "#include \"xplot/xfigure.hpp\"\n",
    "#include \"xplot/xmarks.hpp\"\n",
    "#include \"xplot/xaxes.hpp\""
   ]
  },
  {
   "cell_type": "code",
   "execution_count": 2,
   "metadata": {
    "collapsed": true
   },
   "outputs": [],
   "source": [
    "std::size_t size = 10;\n",
    "std::vector<double> x_data(size);\n",
    "std::iota(x_data.begin(), x_data.end(), 0);\n",
    "std::vector<double> y_data = randn(size);"
   ]
  },
  {
   "cell_type": "code",
   "execution_count": 3,
   "metadata": {
    "collapsed": true
   },
   "outputs": [],
   "source": [
    "xpl::linear_scale sx, sy;"
   ]
  },
  {
   "cell_type": "code",
   "execution_count": 4,
   "metadata": {
    "collapsed": true
   },
   "outputs": [],
   "source": [
    "xpl::scatter scatter(sx, sy);"
   ]
  },
  {
   "cell_type": "code",
   "execution_count": 5,
   "metadata": {
    "collapsed": true
   },
   "outputs": [],
   "source": [
    "scatter.x = x_data;\n",
    "scatter.y = y_data;"
   ]
  },
  {
   "cell_type": "code",
   "execution_count": 6,
   "metadata": {
    "collapsed": true
   },
   "outputs": [],
   "source": [
    "scatter.colors = std::vector<xtl::xoptional<std::string>>{\"orange\"};\n",
    "scatter.enable_move = true;"
   ]
  },
  {
   "cell_type": "code",
   "execution_count": 7,
   "metadata": {
    "collapsed": true
   },
   "outputs": [],
   "source": [
    "xpl::axis ax_x(sx), ax_y(sy);\n",
    "ax_x.label = \"x\";\n",
    "ax_y.label = \"y\";\n",
    "ax_y.orientation = \"vertical\";\n",
    "ax_y.side = \"left\";"
   ]
  },
  {
   "cell_type": "code",
   "execution_count": 8,
   "metadata": {},
   "outputs": [
    {
     "data": {
      "application/vnd.jupyter.widget-view+json": {
       "model_id": "2b39497043ae4c52b39fbe0c19ce42ea",
       "version_major": 2,
       "version_minor": 0
      },
      "text/plain": [
       "A Jupyter widget"
      ]
     },
     "metadata": {},
     "output_type": "display_data"
    }
   ],
   "source": [
    "xpl::figure fig;\n",
    "fig.padding_x = 0.025;\n",
    "fig.add_mark(scatter);\n",
    "fig.add_axis(ax_x);\n",
    "fig.add_axis(ax_y);\n",
    "fig.display()"
   ]
  },
  {
   "cell_type": "code",
   "execution_count": 9,
   "metadata": {
    "collapsed": true
   },
   "outputs": [],
   "source": [
    "#include \"xwidgets/xlabel.hpp\""
   ]
  },
  {
   "cell_type": "code",
   "execution_count": 10,
   "metadata": {},
   "outputs": [
    {
     "data": {
      "application/vnd.jupyter.widget-view+json": {
       "model_id": "7ed72c760bbc4bdbb95e41b8ed72f891",
       "version_major": 2,
       "version_minor": 0
      },
      "text/plain": [
       "A Jupyter widget"
      ]
     },
     "metadata": {},
     "output_type": "display_data"
    }
   ],
   "source": [
    "xw::label label;\n",
    "label.display();"
   ]
  },
  {
   "cell_type": "code",
   "execution_count": 11,
   "metadata": {
    "collapsed": true
   },
   "outputs": [],
   "source": [
    "auto info = [&](const ::xeus::xjson& content){\n",
    "    label.value = std::to_string(static_cast<double>(content[\"point\"][\"x\"])) \n",
    "                + \" \" \n",
    "                + std::to_string(static_cast<double>(content[\"point\"][\"y\"]));\n",
    "};"
   ]
  },
  {
   "cell_type": "code",
   "execution_count": 12,
   "metadata": {
    "collapsed": true
   },
   "outputs": [],
   "source": [
    "scatter.on_drag(info);\n",
    "scatter.on_drag_start(info);\n",
    "scatter.on_drag_end(info);"
   ]
  },
  {
   "cell_type": "code",
   "execution_count": 13,
   "metadata": {
    "collapsed": true
   },
   "outputs": [],
   "source": [
    "// Restricting movement to only along the Y-axis\n",
    "scatter.restrict_y = true;"
   ]
  },
  {
   "cell_type": "markdown",
   "metadata": {},
   "source": [
    "## Adding points to Scatter"
   ]
  },
  {
   "cell_type": "code",
   "execution_count": null,
   "metadata": {
    "collapsed": true
   },
   "outputs": [],
   "source": [
    "// TODO"
   ]
  },
  {
   "cell_type": "markdown",
   "metadata": {},
   "source": [
    "## Updating X and Y while moving the point"
   ]
  },
  {
   "cell_type": "code",
   "execution_count": null,
   "metadata": {
    "collapsed": true
   },
   "outputs": [],
   "source": [
    "// TODO"
   ]
  },
  {
   "cell_type": "markdown",
   "metadata": {},
   "source": [
    "## Custom event on end of drag"
   ]
  },
  {
   "cell_type": "code",
   "execution_count": null,
   "metadata": {
    "collapsed": true
   },
   "outputs": [],
   "source": [
    "// TODO"
   ]
  },
  {
   "cell_type": "markdown",
   "metadata": {
    "collapsed": true
   },
   "source": [
    "## Adding tooltip and custom hover style"
   ]
  },
  {
   "cell_type": "code",
   "execution_count": 1,
   "metadata": {
    "collapsed": true
   },
   "outputs": [],
   "source": [
    "// You need to restart the kernel !!!\n",
    "#include \"random.hpp\"\n",
    "#include \"xplot/xfigure.hpp\"\n",
    "#include \"xplot/xmarks.hpp\"\n",
    "#include \"xplot/xaxes.hpp\"\n",
    "#include \"xplot/xdefault_tooltip.hpp\""
   ]
  },
  {
   "cell_type": "code",
   "execution_count": 2,
   "metadata": {
    "collapsed": true
   },
   "outputs": [],
   "source": [
    "std::size_t size = 50;\n",
    "std::vector<double> x_data(size);\n",
    "std::iota(x_data.begin(), x_data.end(), 0);\n",
    "std::vector<double> y_data = randn(size);"
   ]
  },
  {
   "cell_type": "code",
   "execution_count": 3,
   "metadata": {
    "collapsed": true
   },
   "outputs": [],
   "source": [
    "xpl::linear_scale sx, sy;"
   ]
  },
  {
   "cell_type": "code",
   "execution_count": 4,
   "metadata": {
    "collapsed": true
   },
   "outputs": [],
   "source": [
    "xpl::tooltip def_tt;"
   ]
  },
  {
   "cell_type": "code",
   "execution_count": 5,
   "metadata": {
    "collapsed": true
   },
   "outputs": [],
   "source": [
    "def_tt.fields = std::vector<xtl::xoptional<std::string>>{\"$x^2$\", \"y\"};\n",
    "def_tt.formats = std::vector<xtl::xoptional<std::string>>{\"\", \".2f\"};"
   ]
  },
  {
   "cell_type": "code",
   "execution_count": 6,
   "metadata": {
    "collapsed": true
   },
   "outputs": [],
   "source": [
    "xpl::scatter scatter(sx, sy);"
   ]
  },
  {
   "cell_type": "code",
   "execution_count": 7,
   "metadata": {
    "collapsed": true
   },
   "outputs": [],
   "source": [
    "scatter.x = x_data;\n",
    "scatter.y = y_data;"
   ]
  },
  {
   "cell_type": "code",
   "execution_count": 8,
   "metadata": {
    "collapsed": true
   },
   "outputs": [],
   "source": [
    "scatter.colors = std::vector<xtl::xoptional<std::string>>{\"dodgerblue\"};\n",
    "scatter.unhovered_style = ::xeus::xjson::parse(R\"({\"opacity\": \"0.5\"})\");"
   ]
  },
  {
   "cell_type": "code",
   "execution_count": 9,
   "metadata": {
    "collapsed": true
   },
   "outputs": [],
   "source": [
    "scatter.tooltip = def_tt;"
   ]
  },
  {
   "cell_type": "code",
   "execution_count": 10,
   "metadata": {
    "collapsed": true
   },
   "outputs": [],
   "source": [
    "xpl::axis ax_x(sx), ax_y(sy);\n",
    "ax_x.label = \"$x^2$\";\n",
    "ax_y.label = \"y\";\n",
    "ax_y.orientation = \"vertical\";\n",
    "ax_y.side = \"left\";"
   ]
  },
  {
   "cell_type": "code",
   "execution_count": 11,
   "metadata": {},
   "outputs": [
    {
     "data": {
      "application/vnd.jupyter.widget-view+json": {
       "model_id": "74967a9328a044dd87df7fb2ce4a1fbe",
       "version_major": 2,
       "version_minor": 0
      },
      "text/plain": [
       "A Jupyter widget"
      ]
     },
     "metadata": {},
     "output_type": "display_data"
    }
   ],
   "source": [
    "xpl::figure fig;\n",
    "fig.padding_x = 0.025;\n",
    "fig.add_mark(scatter);\n",
    "fig.add_axis(ax_x);\n",
    "fig.add_axis(ax_y);\n",
    "fig.display()"
   ]
  },
  {
   "cell_type": "code",
   "execution_count": 12,
   "metadata": {
    "collapsed": true
   },
   "outputs": [],
   "source": [
    "// removing field names from the tooltip\n",
    "def_tt.show_labels = false;"
   ]
  },
  {
   "cell_type": "code",
   "execution_count": 13,
   "metadata": {
    "collapsed": true
   },
   "outputs": [],
   "source": [
    "// changing the fields displayed in the tooltip\n",
    "def_tt.fields = std::vector<xtl::xoptional<std::string>>{\"y\"};"
   ]
  },
  {
   "cell_type": "code",
   "execution_count": 14,
   "metadata": {
    "collapsed": true
   },
   "outputs": [],
   "source": [
    "ax_x.label = \"x\";"
   ]
  },
  {
   "cell_type": "code",
   "execution_count": null,
   "metadata": {
    "collapsed": true
   },
   "outputs": [],
   "source": []
  }
 ],
 "metadata": {
  "anaconda-cloud": {},
  "kernelspec": {
   "display_name": "xeus C++14",
   "language": "",
   "name": "xeus-cling-cpp14"
  },
  "language_info": {
   "codemirror_mode": "text/x-c++src",
   "file_extension": ".cpp",
   "mimetype": "text/x-c++src",
   "name": "c++",
   "version": ""
  }
 },
 "nbformat": 4,
 "nbformat_minor": 1
}
